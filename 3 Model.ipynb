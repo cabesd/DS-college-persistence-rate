{
 "cells": [
  {
   "cell_type": "code",
   "execution_count": 1,
   "metadata": {},
   "outputs": [],
   "source": [
    "import sys\n",
    "sys.path.insert(0, '../utils/')\n",
    "\n",
    "import warnings\n",
    "warnings.filterwarnings(\"ignore\", category=FutureWarning)\n",
    "warnings.filterwarnings(\"ignore\", category=UserWarning)\n",
    "\n",
    "import pandas as pd\n",
    "import numpy as np\n",
    "\n",
    "import util_michael as um\n",
    "from util import *\n",
    "\n",
    "from sklearn.model_selection import GridSearchCV\n",
    "from sklearn.model_selection import train_test_split\n",
    "import lightgbm as lgb\n",
    "import xgboost as xgb"
   ]
  },
  {
   "cell_type": "code",
   "execution_count": 2,
   "metadata": {},
   "outputs": [
    {
     "data": {
      "text/plain": [
       "((69, 166), (38, 166), (69,))"
      ]
     },
     "execution_count": 2,
     "metadata": {},
     "output_type": "execute_result"
    }
   ],
   "source": [
    "train = pd.read_csv('./data/fill_train.csv')\n",
    "test = pd.read_csv('./data/fill_test.csv')\n",
    "Ylabel = 'College_Persistence_Rate'\n",
    "\n",
    "Y = train[Ylabel]\n",
    "train.drop(columns=[Ylabel], inplace=True)\n",
    "train.shape, test.shape, Y.shape"
   ]
  },
  {
   "cell_type": "code",
   "execution_count": 7,
   "metadata": {},
   "outputs": [],
   "source": [
    "X = train.drop(columns=['rowid', 'unique_id'])\n",
    "Xt = test.drop(columns=['rowid', 'unique_id'])\n",
    "\n",
    "X_scaled, Xt_scaled = um.apply_scale(X, Xt)"
   ]
  },
  {
   "cell_type": "code",
   "execution_count": 62,
   "metadata": {},
   "outputs": [],
   "source": [
    "class EstimatorContainer():\n",
    "    def __init__(self, metric: str=''):\n",
    "        self.metric = metric\n",
    "        self.reset()\n",
    "        \n",
    "    def save(self, obj: dict) -> None:\n",
    "        name = type(obj['estimator']).__name__\n",
    "        if name in self.names:\n",
    "            ix = self.names.index(name)\n",
    "            self.names.pop(ix)\n",
    "            self.estimators.pop(ix)\n",
    "            self.Xs.pop(ix)\n",
    "            self.scores.pop(ix)\n",
    "        self.names.append(name)\n",
    "        self.estimators.append(obj['estimator'])\n",
    "        self.Xs.append(obj['X'])\n",
    "        self.scores.append(obj['score'])\n",
    "        \n",
    "    def get_df(self) -> pd.DataFrame:\n",
    "        self.df = pd.DataFrame()\n",
    "        self.df['Estimator'] = self.names\n",
    "        self.df[self.metric] = self.scores\n",
    "        return self.df\n",
    "        \n",
    "    def reset(self) -> None:\n",
    "        self.names = []\n",
    "        self.estimators = []\n",
    "        self.Xs = []\n",
    "        self.scores = []\n",
    "        \n",
    "estimators = EstimatorContainer('MSE')"
   ]
  },
  {
   "cell_type": "markdown",
   "metadata": {},
   "source": [
    "# RandomForest"
   ]
  },
  {
   "cell_type": "code",
   "execution_count": 63,
   "metadata": {},
   "outputs": [
    {
     "name": "stderr",
     "output_type": "stream",
     "text": [
      "/Library/Frameworks/Python.framework/Versions/3.7/lib/python3.7/site-packages/sklearn/model_selection/_search.py:813: DeprecationWarning: The default of the `iid` parameter will change from True to False in version 0.22 and will be removed in 0.24. This will change numeric results when test-set sizes are unequal.\n",
      "  DeprecationWarning)\n"
     ]
    },
    {
     "name": "stdout",
     "output_type": "stream",
     "text": [
      "Best parameters:\n",
      " {'n_estimators': 250} \n",
      " -82.8673466272465 \n",
      "\n",
      "-82.8673466272465 {'n_estimators': 250}\n",
      "-85.46663511111129 {'n_estimators': 300}\n"
     ]
    }
   ],
   "source": [
    "from sklearn.ensemble import RandomForestRegressor\n",
    "param_grid = [\n",
    "    { 'n_estimators': [250, 300] }\n",
    "]\n",
    "model = RandomForestRegressor()\n",
    "grid_search = GridSearchCV(model, param_grid, cv=10, scoring='neg_mean_squared_error', return_train_score=True)\n",
    "grid_search.fit(X, Y)\n",
    "show_grid_results(grid_search)"
   ]
  },
  {
   "cell_type": "code",
   "execution_count": 43,
   "metadata": {},
   "outputs": [],
   "source": [
    "# evaluate_regressor(grid_search.best_estimator_, X, Y, 'RandomForest')"
   ]
  },
  {
   "cell_type": "code",
   "execution_count": 64,
   "metadata": {},
   "outputs": [],
   "source": [
    "aux = {\n",
    "    'estimator': grid_search.best_estimator_,\n",
    "    'X': X,\n",
    "    'score': grid_search.best_score_\n",
    "}\n",
    "estimators.save(aux)"
   ]
  },
  {
   "cell_type": "markdown",
   "metadata": {},
   "source": [
    "# AdaBoost Regressor"
   ]
  },
  {
   "cell_type": "code",
   "execution_count": 66,
   "metadata": {},
   "outputs": [
    {
     "name": "stderr",
     "output_type": "stream",
     "text": [
      "/Library/Frameworks/Python.framework/Versions/3.7/lib/python3.7/site-packages/sklearn/model_selection/_search.py:813: DeprecationWarning: The default of the `iid` parameter will change from True to False in version 0.22 and will be removed in 0.24. This will change numeric results when test-set sizes are unequal.\n",
      "  DeprecationWarning)\n"
     ]
    },
    {
     "name": "stdout",
     "output_type": "stream",
     "text": [
      "Best parameters:\n",
      " {'n_estimators': 350} \n",
      " -90.22177568284954 \n",
      "\n",
      "-90.22177568284954 {'n_estimators': 350}\n",
      "-93.73312533942473 {'n_estimators': 400}\n"
     ]
    }
   ],
   "source": [
    "from sklearn.ensemble import AdaBoostRegressor\n",
    "param_grid = [\n",
    "    { 'n_estimators': [350, 400] }\n",
    "]\n",
    "model = AdaBoostRegressor()\n",
    "grid_search = GridSearchCV(model, param_grid, cv=10, scoring='neg_mean_squared_error', return_train_score=True)\n",
    "grid_search.fit(X, Y)\n",
    "show_grid_results(grid_search)"
   ]
  },
  {
   "cell_type": "code",
   "execution_count": 67,
   "metadata": {},
   "outputs": [],
   "source": [
    "# evaluate_regressor(grid_search.best_estimator_, X, Y, 'RandomForest', 10)"
   ]
  },
  {
   "cell_type": "code",
   "execution_count": 68,
   "metadata": {},
   "outputs": [],
   "source": [
    "aux = {\n",
    "    'estimator': grid_search.best_estimator_,\n",
    "    'X': X,\n",
    "    'score': grid_search.best_score_\n",
    "}\n",
    "estimators.save(aux)"
   ]
  },
  {
   "cell_type": "markdown",
   "metadata": {},
   "source": [
    "# XGBoost"
   ]
  },
  {
   "cell_type": "code",
   "execution_count": 69,
   "metadata": {},
   "outputs": [
    {
     "data": {
      "text/plain": [
       "XGBRegressor(base_score=0.5, booster='gbtree', colsample_bylevel=1,\n",
       "             colsample_bynode=1, colsample_bytree=1, gamma=0,\n",
       "             importance_type='gain', learning_rate=0.1, max_delta_step=0,\n",
       "             max_depth=3, min_child_weight=1, missing=None, n_estimators=100,\n",
       "             n_jobs=1, nthread=None, objective='reg:linear', random_state=0,\n",
       "             reg_alpha=0, reg_lambda=1, scale_pos_weight=1, seed=None,\n",
       "             silent=None, subsample=1, verbosity=1)"
      ]
     },
     "execution_count": 69,
     "metadata": {},
     "output_type": "execute_result"
    }
   ],
   "source": [
    "xgb.XGBRegressor()"
   ]
  },
  {
   "cell_type": "code",
   "execution_count": 70,
   "metadata": {},
   "outputs": [
    {
     "name": "stdout",
     "output_type": "stream",
     "text": [
      "Best parameters:\n",
      " {'colsample_bytree': 0.2, 'eta': 0.2, 'n_estimators': 55, 'objective': 'reg:squarederror'} \n",
      " -79.01418783044306 \n",
      "\n",
      "-86.81668468412836 {'colsample_bytree': 0.15, 'eta': 0.2, 'n_estimators': 50, 'objective': 'reg:squarederror'}\n",
      "-86.76364018131724 {'colsample_bytree': 0.15, 'eta': 0.2, 'n_estimators': 55, 'objective': 'reg:squarederror'}\n",
      "-86.02315309877507 {'colsample_bytree': 0.15, 'eta': 0.2, 'n_estimators': 60, 'objective': 'reg:squarederror'}\n",
      "-86.81668468412836 {'colsample_bytree': 0.15, 'eta': 0.3, 'n_estimators': 50, 'objective': 'reg:squarederror'}\n",
      "-86.76364018131724 {'colsample_bytree': 0.15, 'eta': 0.3, 'n_estimators': 55, 'objective': 'reg:squarederror'}\n",
      "-86.02315309877507 {'colsample_bytree': 0.15, 'eta': 0.3, 'n_estimators': 60, 'objective': 'reg:squarederror'}\n",
      "-79.73395796118629 {'colsample_bytree': 0.2, 'eta': 0.2, 'n_estimators': 50, 'objective': 'reg:squarederror'}\n",
      "-79.01418783044306 {'colsample_bytree': 0.2, 'eta': 0.2, 'n_estimators': 55, 'objective': 'reg:squarederror'}\n",
      "-79.3398741775266 {'colsample_bytree': 0.2, 'eta': 0.2, 'n_estimators': 60, 'objective': 'reg:squarederror'}\n",
      "-79.73395796118629 {'colsample_bytree': 0.2, 'eta': 0.3, 'n_estimators': 50, 'objective': 'reg:squarederror'}\n",
      "-79.01418783044306 {'colsample_bytree': 0.2, 'eta': 0.3, 'n_estimators': 55, 'objective': 'reg:squarederror'}\n",
      "-79.3398741775266 {'colsample_bytree': 0.2, 'eta': 0.3, 'n_estimators': 60, 'objective': 'reg:squarederror'}\n",
      "-81.91173930484322 {'colsample_bytree': 0.25, 'eta': 0.2, 'n_estimators': 50, 'objective': 'reg:squarederror'}\n",
      "-82.3180125588035 {'colsample_bytree': 0.25, 'eta': 0.2, 'n_estimators': 55, 'objective': 'reg:squarederror'}\n",
      "-82.2311469229603 {'colsample_bytree': 0.25, 'eta': 0.2, 'n_estimators': 60, 'objective': 'reg:squarederror'}\n",
      "-81.91173930484322 {'colsample_bytree': 0.25, 'eta': 0.3, 'n_estimators': 50, 'objective': 'reg:squarederror'}\n",
      "-82.3180125588035 {'colsample_bytree': 0.25, 'eta': 0.3, 'n_estimators': 55, 'objective': 'reg:squarederror'}\n",
      "-82.2311469229603 {'colsample_bytree': 0.25, 'eta': 0.3, 'n_estimators': 60, 'objective': 'reg:squarederror'}\n"
     ]
    },
    {
     "name": "stderr",
     "output_type": "stream",
     "text": [
      "/Library/Frameworks/Python.framework/Versions/3.7/lib/python3.7/site-packages/sklearn/model_selection/_search.py:813: DeprecationWarning: The default of the `iid` parameter will change from True to False in version 0.22 and will be removed in 0.24. This will change numeric results when test-set sizes are unequal.\n",
      "  DeprecationWarning)\n"
     ]
    }
   ],
   "source": [
    "param_grid = [\n",
    "#     { 'n_estimators': [55], 'objective': ['reg:squarederror'] }\n",
    "#         { 'n_estimators': [50, 55, 60], 'colsample_bytree': [0.2], 'objective': ['reg:squarederror'] }\n",
    "    { 'n_estimators': [50, 55, 60],  'eta': [0.2, 0.3], \n",
    "      'colsample_bytree': [0.15, 0.2, 0.25], 'objective': ['reg:squarederror'] }\n",
    "]\n",
    "model = xgb.XGBRegressor()\n",
    "grid_search = GridSearchCV(model, param_grid, cv=10, scoring='neg_mean_squared_error', return_train_score=True)\n",
    "grid_search.fit(X, Y)\n",
    "show_grid_results(grid_search)"
   ]
  },
  {
   "cell_type": "code",
   "execution_count": 71,
   "metadata": {},
   "outputs": [],
   "source": [
    "aux = {\n",
    "    'estimator': grid_search.best_estimator_,\n",
    "    'X': X,\n",
    "    'score': grid_search.best_score_\n",
    "}\n",
    "estimators.save(aux)"
   ]
  },
  {
   "cell_type": "code",
   "execution_count": null,
   "metadata": {},
   "outputs": [],
   "source": []
  },
  {
   "cell_type": "code",
   "execution_count": 76,
   "metadata": {},
   "outputs": [
    {
     "data": {
      "text/html": [
       "<div>\n",
       "<style scoped>\n",
       "    .dataframe tbody tr th:only-of-type {\n",
       "        vertical-align: middle;\n",
       "    }\n",
       "\n",
       "    .dataframe tbody tr th {\n",
       "        vertical-align: top;\n",
       "    }\n",
       "\n",
       "    .dataframe thead th {\n",
       "        text-align: right;\n",
       "    }\n",
       "</style>\n",
       "<table border=\"1\" class=\"dataframe\">\n",
       "  <thead>\n",
       "    <tr style=\"text-align: right;\">\n",
       "      <th></th>\n",
       "      <th>Estimator</th>\n",
       "      <th>MSE</th>\n",
       "    </tr>\n",
       "  </thead>\n",
       "  <tbody>\n",
       "    <tr>\n",
       "      <th>2</th>\n",
       "      <td>XGBRegressor</td>\n",
       "      <td>-79.014188</td>\n",
       "    </tr>\n",
       "    <tr>\n",
       "      <th>0</th>\n",
       "      <td>RandomForestRegressor</td>\n",
       "      <td>-82.867347</td>\n",
       "    </tr>\n",
       "    <tr>\n",
       "      <th>1</th>\n",
       "      <td>AdaBoostRegressor</td>\n",
       "      <td>-90.221776</td>\n",
       "    </tr>\n",
       "  </tbody>\n",
       "</table>\n",
       "</div>"
      ],
      "text/plain": [
       "               Estimator        MSE\n",
       "2           XGBRegressor -79.014188\n",
       "0  RandomForestRegressor -82.867347\n",
       "1      AdaBoostRegressor -90.221776"
      ]
     },
     "execution_count": 76,
     "metadata": {},
     "output_type": "execute_result"
    }
   ],
   "source": [
    "results = estimators.get_df()\n",
    "results.sort_values(by='MSE', ascending=False)"
   ]
  },
  {
   "cell_type": "code",
   "execution_count": null,
   "metadata": {},
   "outputs": [],
   "source": []
  },
  {
   "cell_type": "code",
   "execution_count": 77,
   "metadata": {},
   "outputs": [
    {
     "data": {
      "text/plain": [
       "XGBRegressor(base_score=0.5, booster='gbtree', colsample_bylevel=1,\n",
       "             colsample_bynode=1, colsample_bytree=0.2, eta=0.2, gamma=0,\n",
       "             importance_type='gain', learning_rate=0.1, max_delta_step=0,\n",
       "             max_depth=3, min_child_weight=1, missing=None, n_estimators=55,\n",
       "             n_jobs=1, nthread=None, objective='reg:squarederror',\n",
       "             random_state=0, reg_alpha=0, reg_lambda=1, scale_pos_weight=1,\n",
       "             seed=None, silent=None, subsample=1, verbosity=1)"
      ]
     },
     "execution_count": 77,
     "metadata": {},
     "output_type": "execute_result"
    }
   ],
   "source": [
    "estimators.estimators[2]"
   ]
  },
  {
   "cell_type": "code",
   "execution_count": 78,
   "metadata": {},
   "outputs": [],
   "source": [
    "best_model = estimators.estimators[2]\n",
    "Yt = best_model.predict(Xt)"
   ]
  },
  {
   "cell_type": "code",
   "execution_count": 85,
   "metadata": {},
   "outputs": [
    {
     "data": {
      "text/html": [
       "<div>\n",
       "<style scoped>\n",
       "    .dataframe tbody tr th:only-of-type {\n",
       "        vertical-align: middle;\n",
       "    }\n",
       "\n",
       "    .dataframe tbody tr th {\n",
       "        vertical-align: top;\n",
       "    }\n",
       "\n",
       "    .dataframe thead th {\n",
       "        text-align: right;\n",
       "    }\n",
       "</style>\n",
       "<table border=\"1\" class=\"dataframe\">\n",
       "  <thead>\n",
       "    <tr style=\"text-align: right;\">\n",
       "      <th></th>\n",
       "      <th>unique_id</th>\n",
       "      <th>College_Persistence_Rate</th>\n",
       "    </tr>\n",
       "  </thead>\n",
       "  <tbody>\n",
       "    <tr>\n",
       "      <th>0</th>\n",
       "      <td>21</td>\n",
       "      <td>74.02</td>\n",
       "    </tr>\n",
       "    <tr>\n",
       "      <th>1</th>\n",
       "      <td>100</td>\n",
       "      <td>70.47</td>\n",
       "    </tr>\n",
       "    <tr>\n",
       "      <th>2</th>\n",
       "      <td>77</td>\n",
       "      <td>68.03</td>\n",
       "    </tr>\n",
       "    <tr>\n",
       "      <th>3</th>\n",
       "      <td>63</td>\n",
       "      <td>80.10</td>\n",
       "    </tr>\n",
       "    <tr>\n",
       "      <th>4</th>\n",
       "      <td>16</td>\n",
       "      <td>54.52</td>\n",
       "    </tr>\n",
       "  </tbody>\n",
       "</table>\n",
       "</div>"
      ],
      "text/plain": [
       "   unique_id  College_Persistence_Rate\n",
       "0         21                     74.02\n",
       "1        100                     70.47\n",
       "2         77                     68.03\n",
       "3         63                     80.10\n",
       "4         16                     54.52"
      ]
     },
     "execution_count": 85,
     "metadata": {},
     "output_type": "execute_result"
    }
   ],
   "source": [
    "output = pd.DataFrame()\n",
    "output['unique_id'] = test['unique_id']\n",
    "output[Ylabel] = Yt.astype(float)\n",
    "output[Ylabel] = output[Ylabel].apply(lambda x: round(x, 2))\n",
    "output.head()"
   ]
  },
  {
   "cell_type": "code",
   "execution_count": 87,
   "metadata": {},
   "outputs": [],
   "source": [
    "import datetime\n",
    "tnow = datetime.datetime.now()\n",
    "_result_file = 'results/result_'+tnow.strftime(\"%b-%d %H %M %S\")+'.csv'\n",
    "output.to_csv(_result_file, index=False)"
   ]
  },
  {
   "cell_type": "code",
   "execution_count": null,
   "metadata": {},
   "outputs": [],
   "source": []
  },
  {
   "cell_type": "code",
   "execution_count": null,
   "metadata": {},
   "outputs": [],
   "source": []
  }
 ],
 "metadata": {
  "kernelspec": {
   "display_name": "Python 3",
   "language": "python",
   "name": "python3"
  },
  "language_info": {
   "codemirror_mode": {
    "name": "ipython",
    "version": 3
   },
   "file_extension": ".py",
   "mimetype": "text/x-python",
   "name": "python",
   "nbconvert_exporter": "python",
   "pygments_lexer": "ipython3",
   "version": "3.7.2"
  }
 },
 "nbformat": 4,
 "nbformat_minor": 2
}
