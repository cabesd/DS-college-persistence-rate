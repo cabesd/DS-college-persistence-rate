{
 "cells": [
  {
   "cell_type": "code",
   "execution_count": 5,
   "metadata": {},
   "outputs": [],
   "source": [
    "import pandas as pd\n",
    "import numpy as np\n",
    "\n",
    "import sqlite3\n",
    "\n",
    "def fetch_table_names(cur: sqlite3.Cursor) -> [str]:\n",
    "    '''\n",
    "    Retrieves all tables in the database\n",
    "    '''\n",
    "    \n",
    "    cur.execute('SELECT name FROM sqlite_master WHERE type = \\'table\\';')\n",
    "    return [x[0] for x in cur.fetchall()]\n",
    "\n",
    "def fetch_column_names(cur: sqlite3.Cursor, table: str) -> [str]:\n",
    "    '''\n",
    "    Retrieves all columns in a table\n",
    "    '''\n",
    "    \n",
    "    cur.execute('PRAGMA table_info(' + table + ');')\n",
    "    return [x[1] for x in cur.fetchall()]\n",
    "\n",
    "def fetch_col_values(cur: sqlite3.Cursor, table: str, col: str) -> []:\n",
    "    '''\n",
    "    Returns all values for a specific column\n",
    "    '''\n",
    "    \n",
    "    cur.execute('SELECT ' + col + ' FROM ' + table + ';')\n",
    "    return [x[0] for x in cur.fetchall()]"
   ]
  },
  {
   "cell_type": "code",
   "execution_count": 7,
   "metadata": {},
   "outputs": [],
   "source": [
    "db_dir = './data/final.db'\n",
    "t_train = 'SCHOOL_TRAIN'\n",
    "t_test = 'SCHOOL_TEST'\n",
    "\n",
    "conn = sqlite3.connect(db_dir)\n",
    "cur = conn.cursor()\n",
    "train_cols = fetch_column_names(cur, t_train)\n",
    "test_cols = fetch_column_names(cur, t_test)\n",
    "train, test = pd.DataFrame(columns=train_cols), pd.DataFrame(columns=test_cols)\n",
    "\n",
    "for c in train_cols:\n",
    "    train[c] = fetch_col_values(cur, t_train, c)\n",
    "for c in test_cols:\n",
    "    test[c] = fetch_col_values(cur, t_test, c)\n",
    "    \n",
    "train.to_csv('./data/raw_train.csv', index=False)\n",
    "test.to_csv('./data/raw_test.csv', index=False)"
   ]
  },
  {
   "cell_type": "code",
   "execution_count": null,
   "metadata": {},
   "outputs": [],
   "source": []
  }
 ],
 "metadata": {
  "kernelspec": {
   "display_name": "Python 3",
   "language": "python",
   "name": "python3"
  },
  "language_info": {
   "codemirror_mode": {
    "name": "ipython",
    "version": 3
   },
   "file_extension": ".py",
   "mimetype": "text/x-python",
   "name": "python",
   "nbconvert_exporter": "python",
   "pygments_lexer": "ipython3",
   "version": "3.7.2"
  }
 },
 "nbformat": 4,
 "nbformat_minor": 2
}
